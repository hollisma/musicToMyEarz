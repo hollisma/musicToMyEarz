{
 "cells": [
  {
   "cell_type": "code",
   "execution_count": null,
   "metadata": {},
   "outputs": [],
   "source": [
    "import numpy as np\n",
    "import pandas as pd\n",
    "print(\"Successfully Loaded\")\n"
   ]
  },
  {
   "cell_type": "code",
   "execution_count": null,
   "metadata": {},
   "outputs": [],
   "source": [
    "# Read CSV\n",
    "df = pd.read_csv(\"data/SpotifyFeatures.csv\")\n",
    "# df_top = df.head()\n",
    "\n",
    "# df_top\n",
    "\n",
    "df"
   ]
  },
  {
   "cell_type": "code",
   "execution_count": null,
   "metadata": {},
   "outputs": [],
   "source": [
    "df.dtypes"
   ]
  },
  {
   "cell_type": "code",
   "execution_count": null,
   "metadata": {},
   "outputs": [],
   "source": [
    "df['genre'].unique()"
   ]
  },
  {
   "cell_type": "code",
   "execution_count": null,
   "metadata": {},
   "outputs": [],
   "source": [
    "\"\"\"\n",
    "Consolidate children's music. Two values for same category.\n",
    "\"\"\"\n",
    "\n",
    "print(np.sum(df['genre'] == \"Children's Music\"))\n",
    "print(np.sum(df['genre'] == 'Children’s Music'))\n",
    "\n",
    "new_gen = df['genre'].replace('Children’s Music', \"Children's Music\")\n",
    "\n",
    "\n",
    "print(np.sum(new_gen == \"Children's Music\"))\n",
    "print(np.sum(new_gen == 'Children’s Music'))\n",
    "\n",
    "df['genre'] = new_gen.astype('category')"
   ]
  },
  {
   "cell_type": "code",
   "execution_count": null,
   "metadata": {},
   "outputs": [],
   "source": [
    "df['genre'].unique()"
   ]
  },
  {
   "cell_type": "markdown",
   "metadata": {},
   "source": [
    "### Potential Issues:\n",
    "Changing keys into 0-1 columns may lead to underfitting, since there are more features and the same amount of data.\n",
    "\n",
    "If a song is in a certain key, then there are 0's in all other columns of keys. In other words, the values of the columns of keys are dependent on the other such columns."
   ]
  },
  {
   "cell_type": "code",
   "execution_count": null,
   "metadata": {},
   "outputs": [],
   "source": [
    "\"\"\"\n",
    "Change keys into 0-1 columns\n",
    "\"\"\"\n",
    "\n",
    "df['key'].unique()\n",
    "for k in df['key'].unique():\n",
    "    # k == df['key'] gives boolean series\n",
    "    df[k] = (k == df['key']).astype('int64')\n",
    "    \n",
    "df = df.drop(labels = 'key', axis = 'columns')"
   ]
  },
  {
   "cell_type": "code",
   "execution_count": null,
   "metadata": {},
   "outputs": [],
   "source": [
    "df.dtypes"
   ]
  },
  {
   "cell_type": "code",
   "execution_count": null,
   "metadata": {},
   "outputs": [],
   "source": [
    "df['time_signature'].unique()"
   ]
  },
  {
   "cell_type": "code",
   "execution_count": null,
   "metadata": {},
   "outputs": [],
   "source": [
    "\"\"\"\n",
    "Change time signature into 0-1 columns\n",
    "\"\"\"\n",
    "\n",
    "for ts in df['time_signature'].unique():\n",
    "    # k == df['key'] gives boolean series\n",
    "    df[ts] = (ts == df['time_signature']).astype('int64')\n",
    "    \n",
    "df = df.drop(labels = 'time_signature', axis = 'columns')"
   ]
  },
  {
   "cell_type": "code",
   "execution_count": null,
   "metadata": {},
   "outputs": [],
   "source": [
    "df.dtypes"
   ]
  }
 ],
 "metadata": {
  "file_extension": ".py",
  "kernelspec": {
   "display_name": "Python 3.6.9 64-bit",
   "language": "python",
   "name": "python36964bit21e1ddd3b32f40fabac9b80c8b9d79f5"
  },
  "language_info": {
   "codemirror_mode": {
    "name": "ipython",
    "version": 3
   },
   "file_extension": ".py",
   "mimetype": "text/x-python",
   "name": "python",
   "nbconvert_exporter": "python",
   "pygments_lexer": "ipython3",
   "version": "3.6.9"
  },
  "mimetype": "text/x-python",
  "name": "python",
  "npconvert_exporter": "python",
  "pygments_lexer": "ipython3",
  "version": 3
 },
 "nbformat": 4,
 "nbformat_minor": 2
}
