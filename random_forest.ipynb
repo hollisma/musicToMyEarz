{
 "cells": [
  {
   "cell_type": "code",
   "execution_count": null,
   "metadata": {},
   "outputs": [],
   "source": [
    "import numpy as np\n",
    "import pandas as pd\n",
    "from sklearn.model_selection import train_test_split \n",
    "from sklearn.ensemble import RandomForestRegressor\n",
    "\n",
    "import preprocess\n",
    "\n",
    "# preprocess has get_processed_df and get_stratified_df\n",
    "\n",
    "print(\"Successfully Loaded\")"
   ]
  },
  {
   "cell_type": "code",
   "execution_count": null,
   "metadata": {},
   "outputs": [],
   "source": [
    "df = preprocess.get_processed_df()\n",
    "print(type(df))\n",
    "print(df.shape)"
   ]
  },
  {
   "cell_type": "code",
   "execution_count": null,
   "metadata": {},
   "outputs": [],
   "source": [
    "attribute_labels = df.columns[5:]\n",
    "\n",
    "attributes = []\n",
    "for a in attribute_labels:\n",
    "    attributes.extend(list(df[a].values))\n",
    "\n",
    "attributes = np.asarray([np.asarray(attributes)])\n",
    "attributes = np.reshape(attributes, (len(attribute_labels), -1))\n",
    "attributes = attributes.transpose()\n",
    "\n",
    "labels = df['popularity'].values.reshape(-1, 1)\n",
    "\n",
    "# Labels: popularity\n",
    "# Attributes: features\n",
    "\n",
    "print(attributes)\n",
    "print(attributes.shape)\n",
    "print(labels.shape)"
   ]
  },
  {
   "cell_type": "code",
   "execution_count": null,
   "metadata": {},
   "outputs": [],
   "source": [
    "# Training random forest on whole dataframe\n",
    "\n",
    "X_train, X_test, y_train, y_test = train_test_split(attributes, labels, test_size=0.2, random_state=0)\n",
    "rand_forest = RandomForestRegressor(n_estimators = 100, criterion = 'mse', max_depth = None, min_samples_split = 2)\n",
    "\n",
    "y_train = np.ravel(y_train)\n",
    "y_test = np.ravel(y_test)\n",
    "\"\"\"\n",
    "The below line of code causes this: DataConversionWarning: A column-vector y was\n",
    "passed when a 1d array was expected. Please change the shape of y to (n_samples,)\n",
    "\n",
    "y_test = np.ravel(y_test)\n",
    "\"\"\"\n",
    "rand_forest.fit(X_train, y_train)\n",
    "\n",
    "predictions = rand_forest.predict(X_test)\n",
    "print('First 5 predictions: %s\\n' % predictions[0:5])\n",
    "print(y_test[:5])\n",
    "\n",
    "print('Score: %s\\n' % rand_forest.score(X_test, y_test))"
   ]
  },
  {
   "cell_type": "code",
   "execution_count": null,
   "metadata": {},
   "outputs": [],
   "source": [
    "df_gen_dict = preprocess.get_stratified_df()\n",
    "print(type(df_gen_dict))\n",
    "print(df_gen_dict.keys())"
   ]
  },
  {
   "cell_type": "code",
   "execution_count": null,
   "metadata": {},
   "outputs": [],
   "source": [
    "def get_attributes_labels(df):\n",
    "    # remove genre, artist_name, track_name, track_id, popularity\n",
    "    attribute_labels = df.columns[5:]\n",
    "\n",
    "    attributes = []\n",
    "    for a in attribute_labels:\n",
    "        attributes.extend(list(df[a].values))\n",
    "\n",
    "    attributes = np.asarray([np.asarray(attributes)])\n",
    "    attributes = np.reshape(attributes, (len(attribute_labels), -1))\n",
    "    attributes = attributes.transpose()\n",
    "\n",
    "    labels = df['popularity'].values.reshape(-1, 1)\n",
    "    \n",
    "    return attributes, labels"
   ]
  },
  {
   "cell_type": "code",
   "execution_count": null,
   "metadata": {},
   "outputs": [],
   "source": [
    "\"\"\"\n",
    "Create dictionary. key: genre, value: RandomForestRegressor trained on the specific genre dataset\n",
    "\"\"\"\n",
    "reg_genre = dict()\n",
    "for g in df_gen_dict.keys():\n",
    "    attributes, labels = get_attributes_labels(df_gen_dict[g])\n",
    "    X_train, X_test, y_train, y_test = train_test_split(attributes, labels, test_size=0.2, random_state=0)\n",
    "    y_train = np.ravel(y_train)\n",
    "    y_test = np.ravel(y_test)\n",
    "    rand_forest = RandomForestRegressor(n_estimators = 100, criterion = 'mse', max_depth = None, min_samples_split = 2)\n",
    "    rand_forest.fit(X_train, y_train)\n",
    "    \n",
    "    reg_genre[g] = rand_forest\n",
    "\n",
    "    predictions = rand_forest.predict(X_test)\n",
    "    print('Genre: ' + g)\n",
    "    print('Score: %s\\n' % rand_forest.score(X_test, y_test))\n",
    "    "
   ]
  }
 ],
 "metadata": {
  "kernelspec": {
   "display_name": "Python 3.6.9 64-bit",
   "language": "python",
   "name": "python36964bit21e1ddd3b32f40fabac9b80c8b9d79f5"
  },
  "language_info": {
   "codemirror_mode": {
    "name": "ipython",
    "version": 3
   },
   "file_extension": ".py",
   "mimetype": "text/x-python",
   "name": "python",
   "nbconvert_exporter": "python",
   "pygments_lexer": "ipython3",
   "version": "3.6.9"
  }
 },
 "nbformat": 4,
 "nbformat_minor": 4
}
