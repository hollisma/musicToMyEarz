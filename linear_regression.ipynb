{
 "nbformat": 4,
 "nbformat_minor": 2,
 "metadata": {
  "language_info": {
   "name": "python",
   "codemirror_mode": {
    "name": "ipython",
    "version": 3
   },
   "version": "3.7.5-final"
  },
  "orig_nbformat": 2,
  "file_extension": ".py",
  "mimetype": "text/x-python",
  "name": "python",
  "npconvert_exporter": "python",
  "pygments_lexer": "ipython3",
  "version": 3,
  "kernelspec": {
   "name": "python37564bit400011d138fa4dc9b90dfc705a9f37ae",
   "display_name": "Python 3.7.5 64-bit"
  }
 },
 "cells": [
  {
   "cell_type": "code",
   "execution_count": 165,
   "metadata": {},
   "outputs": [
    {
     "output_type": "stream",
     "name": "stdout",
     "text": "Successfully Loaded\n"
    }
   ],
   "source": [
    "import numpy as np\n",
    "import pandas as pd\n",
    "from sklearn.model_selection import train_test_split \n",
    "from sklearn.linear_model import LinearRegression\n",
    "from sklearn import metrics\n",
    "print(\"Successfully Loaded\")"
   ]
  },
  {
   "cell_type": "code",
   "execution_count": 186,
   "metadata": {},
   "outputs": [
    {
     "output_type": "execute_result",
     "data": {
      "text/plain": "        genre               artist_name                        track_name  \\\n0       Movie            Henri Salvador       C'est beau de faire un Show   \n1       Movie         Martin & les fées  Perdu d'avance (par Gad Elmaleh)   \n2       Movie           Joseph Williams    Don't Let Me Be Lonely Tonight   \n3       Movie            Henri Salvador    Dis-moi Monsieur Gordon Cooper   \n4       Movie              Fabien Nataf                         Ouverture   \n...       ...                       ...                               ...   \n232720   Soul                     Slave                      Son Of Slide   \n232721   Soul  Jr Thomas & The Volcanos                      Burning Fire   \n232722   Soul              Muddy Waters    (I'm Your) Hoochie Coochie Man   \n232723   Soul                   R.LUM.R                     With My Words   \n232724   Soul            Mint Condition    You Don't Have To Hurt No More   \n\n                      track_id  popularity  acousticness  danceability  \\\n0       0BRjO6ga9RKCKjfDqeFgWV           0       0.61100         0.389   \n1       0BjC1NfoEOOusryehmNudP           1       0.24600         0.590   \n2       0CoSDzoNIKCRs124s9uTVy           3       0.95200         0.663   \n3       0Gc6TVm52BwZD07Ki6tIvf           0       0.70300         0.240   \n4       0IuslXpMROHdEPvSl1fTQK           4       0.95000         0.331   \n...                        ...         ...           ...           ...   \n232720  2XGLdVl7lGeq8ksM6Al7jT          39       0.00384         0.687   \n232721  1qWZdkBl4UVPj9lK6HuuFM          38       0.03290         0.785   \n232722  2ziWXUmQLrXTiYjCg2fZ2t          47       0.90100         0.517   \n232723  6EFsue2YbIG4Qkq8Zr9Rir          44       0.26200         0.745   \n232724  34XO9RwPMKjbvRry54QzWn          35       0.09730         0.758   \n\n        duration_ms  energy  instrumentalness key  liveness  loudness   mode  \\\n0             99373   0.910          0.000000  C#    0.3460    -1.828  Major   \n1            137373   0.737          0.000000  F#    0.1510    -5.559  Minor   \n2            170267   0.131          0.000000   C    0.1030   -13.879  Minor   \n3            152427   0.326          0.000000  C#    0.0985   -12.178  Major   \n4             82625   0.225          0.123000   F    0.2020   -21.150  Major   \n...             ...     ...               ...  ..       ...       ...    ...   \n232720       326240   0.714          0.544000   D    0.0845   -10.626  Major   \n232721       282447   0.683          0.000880   E    0.2370    -6.944  Minor   \n232722       166960   0.419          0.000000   D    0.0945    -8.282  Major   \n232723       222442   0.704          0.000000   A    0.3330    -7.137  Major   \n232724       323027   0.470          0.000049  G#    0.0836    -6.708  Minor   \n\n        speechiness    tempo time_signature  valence  \n0            0.0525  166.969            4/4    0.814  \n1            0.0868  174.003            4/4    0.816  \n2            0.0362   99.488            5/4    0.368  \n3            0.0395  171.758            4/4    0.227  \n4            0.0456  140.576            4/4    0.390  \n...             ...      ...            ...      ...  \n232720       0.0316  115.542            4/4    0.962  \n232721       0.0337  113.830            4/4    0.969  \n232722       0.1480   84.135            4/4    0.813  \n232723       0.1460  100.031            4/4    0.489  \n232724       0.0287  113.897            4/4    0.479  \n\n[232725 rows x 18 columns]",
      "text/html": "<div>\n<style scoped>\n    .dataframe tbody tr th:only-of-type {\n        vertical-align: middle;\n    }\n\n    .dataframe tbody tr th {\n        vertical-align: top;\n    }\n\n    .dataframe thead th {\n        text-align: right;\n    }\n</style>\n<table border=\"1\" class=\"dataframe\">\n  <thead>\n    <tr style=\"text-align: right;\">\n      <th></th>\n      <th>genre</th>\n      <th>artist_name</th>\n      <th>track_name</th>\n      <th>track_id</th>\n      <th>popularity</th>\n      <th>acousticness</th>\n      <th>danceability</th>\n      <th>duration_ms</th>\n      <th>energy</th>\n      <th>instrumentalness</th>\n      <th>key</th>\n      <th>liveness</th>\n      <th>loudness</th>\n      <th>mode</th>\n      <th>speechiness</th>\n      <th>tempo</th>\n      <th>time_signature</th>\n      <th>valence</th>\n    </tr>\n  </thead>\n  <tbody>\n    <tr>\n      <th>0</th>\n      <td>Movie</td>\n      <td>Henri Salvador</td>\n      <td>C'est beau de faire un Show</td>\n      <td>0BRjO6ga9RKCKjfDqeFgWV</td>\n      <td>0</td>\n      <td>0.61100</td>\n      <td>0.389</td>\n      <td>99373</td>\n      <td>0.910</td>\n      <td>0.000000</td>\n      <td>C#</td>\n      <td>0.3460</td>\n      <td>-1.828</td>\n      <td>Major</td>\n      <td>0.0525</td>\n      <td>166.969</td>\n      <td>4/4</td>\n      <td>0.814</td>\n    </tr>\n    <tr>\n      <th>1</th>\n      <td>Movie</td>\n      <td>Martin &amp; les fées</td>\n      <td>Perdu d'avance (par Gad Elmaleh)</td>\n      <td>0BjC1NfoEOOusryehmNudP</td>\n      <td>1</td>\n      <td>0.24600</td>\n      <td>0.590</td>\n      <td>137373</td>\n      <td>0.737</td>\n      <td>0.000000</td>\n      <td>F#</td>\n      <td>0.1510</td>\n      <td>-5.559</td>\n      <td>Minor</td>\n      <td>0.0868</td>\n      <td>174.003</td>\n      <td>4/4</td>\n      <td>0.816</td>\n    </tr>\n    <tr>\n      <th>2</th>\n      <td>Movie</td>\n      <td>Joseph Williams</td>\n      <td>Don't Let Me Be Lonely Tonight</td>\n      <td>0CoSDzoNIKCRs124s9uTVy</td>\n      <td>3</td>\n      <td>0.95200</td>\n      <td>0.663</td>\n      <td>170267</td>\n      <td>0.131</td>\n      <td>0.000000</td>\n      <td>C</td>\n      <td>0.1030</td>\n      <td>-13.879</td>\n      <td>Minor</td>\n      <td>0.0362</td>\n      <td>99.488</td>\n      <td>5/4</td>\n      <td>0.368</td>\n    </tr>\n    <tr>\n      <th>3</th>\n      <td>Movie</td>\n      <td>Henri Salvador</td>\n      <td>Dis-moi Monsieur Gordon Cooper</td>\n      <td>0Gc6TVm52BwZD07Ki6tIvf</td>\n      <td>0</td>\n      <td>0.70300</td>\n      <td>0.240</td>\n      <td>152427</td>\n      <td>0.326</td>\n      <td>0.000000</td>\n      <td>C#</td>\n      <td>0.0985</td>\n      <td>-12.178</td>\n      <td>Major</td>\n      <td>0.0395</td>\n      <td>171.758</td>\n      <td>4/4</td>\n      <td>0.227</td>\n    </tr>\n    <tr>\n      <th>4</th>\n      <td>Movie</td>\n      <td>Fabien Nataf</td>\n      <td>Ouverture</td>\n      <td>0IuslXpMROHdEPvSl1fTQK</td>\n      <td>4</td>\n      <td>0.95000</td>\n      <td>0.331</td>\n      <td>82625</td>\n      <td>0.225</td>\n      <td>0.123000</td>\n      <td>F</td>\n      <td>0.2020</td>\n      <td>-21.150</td>\n      <td>Major</td>\n      <td>0.0456</td>\n      <td>140.576</td>\n      <td>4/4</td>\n      <td>0.390</td>\n    </tr>\n    <tr>\n      <th>...</th>\n      <td>...</td>\n      <td>...</td>\n      <td>...</td>\n      <td>...</td>\n      <td>...</td>\n      <td>...</td>\n      <td>...</td>\n      <td>...</td>\n      <td>...</td>\n      <td>...</td>\n      <td>...</td>\n      <td>...</td>\n      <td>...</td>\n      <td>...</td>\n      <td>...</td>\n      <td>...</td>\n      <td>...</td>\n      <td>...</td>\n    </tr>\n    <tr>\n      <th>232720</th>\n      <td>Soul</td>\n      <td>Slave</td>\n      <td>Son Of Slide</td>\n      <td>2XGLdVl7lGeq8ksM6Al7jT</td>\n      <td>39</td>\n      <td>0.00384</td>\n      <td>0.687</td>\n      <td>326240</td>\n      <td>0.714</td>\n      <td>0.544000</td>\n      <td>D</td>\n      <td>0.0845</td>\n      <td>-10.626</td>\n      <td>Major</td>\n      <td>0.0316</td>\n      <td>115.542</td>\n      <td>4/4</td>\n      <td>0.962</td>\n    </tr>\n    <tr>\n      <th>232721</th>\n      <td>Soul</td>\n      <td>Jr Thomas &amp; The Volcanos</td>\n      <td>Burning Fire</td>\n      <td>1qWZdkBl4UVPj9lK6HuuFM</td>\n      <td>38</td>\n      <td>0.03290</td>\n      <td>0.785</td>\n      <td>282447</td>\n      <td>0.683</td>\n      <td>0.000880</td>\n      <td>E</td>\n      <td>0.2370</td>\n      <td>-6.944</td>\n      <td>Minor</td>\n      <td>0.0337</td>\n      <td>113.830</td>\n      <td>4/4</td>\n      <td>0.969</td>\n    </tr>\n    <tr>\n      <th>232722</th>\n      <td>Soul</td>\n      <td>Muddy Waters</td>\n      <td>(I'm Your) Hoochie Coochie Man</td>\n      <td>2ziWXUmQLrXTiYjCg2fZ2t</td>\n      <td>47</td>\n      <td>0.90100</td>\n      <td>0.517</td>\n      <td>166960</td>\n      <td>0.419</td>\n      <td>0.000000</td>\n      <td>D</td>\n      <td>0.0945</td>\n      <td>-8.282</td>\n      <td>Major</td>\n      <td>0.1480</td>\n      <td>84.135</td>\n      <td>4/4</td>\n      <td>0.813</td>\n    </tr>\n    <tr>\n      <th>232723</th>\n      <td>Soul</td>\n      <td>R.LUM.R</td>\n      <td>With My Words</td>\n      <td>6EFsue2YbIG4Qkq8Zr9Rir</td>\n      <td>44</td>\n      <td>0.26200</td>\n      <td>0.745</td>\n      <td>222442</td>\n      <td>0.704</td>\n      <td>0.000000</td>\n      <td>A</td>\n      <td>0.3330</td>\n      <td>-7.137</td>\n      <td>Major</td>\n      <td>0.1460</td>\n      <td>100.031</td>\n      <td>4/4</td>\n      <td>0.489</td>\n    </tr>\n    <tr>\n      <th>232724</th>\n      <td>Soul</td>\n      <td>Mint Condition</td>\n      <td>You Don't Have To Hurt No More</td>\n      <td>34XO9RwPMKjbvRry54QzWn</td>\n      <td>35</td>\n      <td>0.09730</td>\n      <td>0.758</td>\n      <td>323027</td>\n      <td>0.470</td>\n      <td>0.000049</td>\n      <td>G#</td>\n      <td>0.0836</td>\n      <td>-6.708</td>\n      <td>Minor</td>\n      <td>0.0287</td>\n      <td>113.897</td>\n      <td>4/4</td>\n      <td>0.479</td>\n    </tr>\n  </tbody>\n</table>\n<p>232725 rows × 18 columns</p>\n</div>"
     },
     "metadata": {},
     "execution_count": 186
    }
   ],
   "source": [
    "df = pd.read_csv(\"data/SpotifyFeatures.csv\")\n",
    "\n",
    "new_gen = df['genre'].replace('Children’s Music', \"Children's Music\")\n",
    "df['genre'] = new_gen.astype('category')\n",
    "\n",
    "for k in df['key'].unique():\n",
    "    df[k] = (k == df['key']).astype('int64')\n",
    "df = df.drop(labels = 'key', axis = 'columns')\n",
    "\n",
    "for ts in df['time_signature'].unique():\n",
    "    df[ts] = (ts == df['time_signature']).astype('int64')\n",
    "df = df.drop(labels = 'time_signature', axis = 'columns')\n",
    "\n",
    "df"
   ]
  },
  {
   "cell_type": "code",
   "execution_count": 179,
   "metadata": {
    "tags": [
     "outputPrepend"
    ]
   },
   "outputs": [
    {
     "output_type": "stream",
     "name": "stdout",
     "text": "[[6.11000e-01 3.89000e-01 9.93730e+04 ... 5.25000e-02 1.66969e+02\n  8.14000e-01]\n [2.46000e-01 5.90000e-01 1.37373e+05 ... 8.68000e-02 1.74003e+02\n  8.16000e-01]\n [9.52000e-01 6.63000e-01 1.70267e+05 ... 3.62000e-02 9.94880e+01\n  3.68000e-01]\n ...\n [9.01000e-01 5.17000e-01 1.66960e+05 ... 1.48000e-01 8.41350e+01\n  8.13000e-01]\n [2.62000e-01 7.45000e-01 2.22442e+05 ... 1.46000e-01 1.00031e+02\n  4.89000e-01]\n [9.73000e-02 7.58000e-01 3.23027e+05 ... 2.87000e-02 1.13897e+02\n  4.79000e-01]]\n(232725, 10)\n(232725, 1)\n"
    }
   ],
   "source": [
    "attribute_labels = ['acousticness', 'danceability', 'duration_ms', 'energy',\n",
    "       'instrumentalness', 'liveness', 'loudness',\n",
    "       'speechiness', 'tempo', 'valence']\n",
    "attributes = []\n",
    "for a in attribute_labels:\n",
    "    attributes.extend(list(df[a].values))\n",
    "attributes = np.asarray([np.asarray(attributes)])\n",
    "# attributes = np.reshape(attributes, (-1, len(attribute_labels)))\n",
    "attributes = np.reshape(attributes, (len(attribute_labels), -1))\n",
    "attributes = attributes.transpose()\n",
    "\n",
    "\n",
    "labels = df['popularity'].values.reshape(-1, 1)\n",
    "\n",
    "print(attributes)\n",
    "print(attributes.shape)\n",
    "print(labels.shape)"
   ]
  },
  {
   "cell_type": "code",
   "execution_count": 185,
   "metadata": {},
   "outputs": [
    {
     "output_type": "stream",
     "name": "stdout",
     "text": "First 5 predictions: [[46.1829279 ]\n [43.1572103 ]\n [42.81932361]\n [23.21452339]\n [30.83519121]]\n\nScore: 0.23715774335512618\n\nCoefficients: [[-1.18840565e+01  1.77287083e+01  2.75886423e-06 -5.82155624e+00\n  -4.30662708e+00 -9.69914693e+00  7.18729089e-01 -8.00037971e+00\n  -3.52577899e-03 -1.30504656e+01]]\n\nIntercept: [55.28776254]\n\n"
    }
   ],
   "source": [
    "X_train, X_test, y_train, y_test = train_test_split(attributes, labels, test_size=0.2, random_state=0)\n",
    "regressor = LinearRegression()\n",
    "regressor.fit(X_train, y_train)\n",
    "\n",
    "predictions = regressor.predict(X_test)\n",
    "print('First 5 predictions: %s\\n' % predictions[0:5])\n",
    "\n",
    "print('Score: %s\\n' % regressor.score(X_test, y_test))\n",
    "print('Coefficients: %s\\n' % regressor.coef_)\n",
    "print('Intercept: %s\\n' % regressor.intercept_)"
   ]
  },
  {
   "cell_type": "code",
   "execution_count": 174,
   "metadata": {},
   "outputs": [],
   "source": [
    "# from sklearn import datasets, linear_model\n",
    "# data = datasets.load_boston()\n",
    "\n",
    "# df = pd.DataFrame(data.data, columns=data.feature_names)\n",
    "# target = pd.DataFrame(data.target, columns=[\"MEDV\"])\n",
    "\n",
    "# X = df\n",
    "# y = target[\"MEDV\"]\n",
    "\n",
    "# lm = linear_model.LinearRegression()\n",
    "# model = lm.fit(X,y)\n",
    "\n",
    "# predictions = lm.predict(X)\n",
    "# print(predictions)\n",
    "\n",
    "# print(lm.score(X,y))\n",
    "# print(lm.coef_)\n",
    "# print(lm.intercept_)"
   ]
  }
 ]
}