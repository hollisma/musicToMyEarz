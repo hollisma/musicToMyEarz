{
 "nbformat": 4,
 "nbformat_minor": 2,
 "metadata": {
  "language_info": {
   "name": "python",
   "codemirror_mode": {
    "name": "ipython",
    "version": 3
   },
   "version": "3.7.5-final"
  },
  "orig_nbformat": 2,
  "file_extension": ".py",
  "mimetype": "text/x-python",
  "name": "python",
  "npconvert_exporter": "python",
  "pygments_lexer": "ipython3",
  "version": 3,
  "kernelspec": {
   "name": "python37564bit400011d138fa4dc9b90dfc705a9f37ae",
   "display_name": "Python 3.7.5 64-bit"
  }
 },
 "cells": [
  {
   "cell_type": "code",
   "execution_count": 1,
   "metadata": {},
   "outputs": [
    {
     "output_type": "stream",
     "name": "stdout",
     "text": "Successfully Loaded\n"
    }
   ],
   "source": [
    "import numpy as np\n",
    "import pandas as pd\n",
    "from sklearn.model_selection import train_test_split \n",
    "from sklearn.tree import DecisionTreeClassifier\n",
    "print(\"Successfully Loaded\")"
   ]
  },
  {
   "cell_type": "code",
   "execution_count": 2,
   "metadata": {},
   "outputs": [
    {
     "output_type": "execute_result",
     "data": {
      "text/plain": "        genre               artist_name                        track_name  \\\n0       Movie            Henri Salvador       C'est beau de faire un Show   \n1       Movie         Martin & les fées  Perdu d'avance (par Gad Elmaleh)   \n2       Movie           Joseph Williams    Don't Let Me Be Lonely Tonight   \n3       Movie            Henri Salvador    Dis-moi Monsieur Gordon Cooper   \n4       Movie              Fabien Nataf                         Ouverture   \n...       ...                       ...                               ...   \n232720   Soul                     Slave                      Son Of Slide   \n232721   Soul  Jr Thomas & The Volcanos                      Burning Fire   \n232722   Soul              Muddy Waters    (I'm Your) Hoochie Coochie Man   \n232723   Soul                   R.LUM.R                     With My Words   \n232724   Soul            Mint Condition    You Don't Have To Hurt No More   \n\n                      track_id  popularity  acousticness  danceability  \\\n0       0BRjO6ga9RKCKjfDqeFgWV           0       0.61100         0.389   \n1       0BjC1NfoEOOusryehmNudP           1       0.24600         0.590   \n2       0CoSDzoNIKCRs124s9uTVy           3       0.95200         0.663   \n3       0Gc6TVm52BwZD07Ki6tIvf           0       0.70300         0.240   \n4       0IuslXpMROHdEPvSl1fTQK           4       0.95000         0.331   \n...                        ...         ...           ...           ...   \n232720  2XGLdVl7lGeq8ksM6Al7jT          39       0.00384         0.687   \n232721  1qWZdkBl4UVPj9lK6HuuFM          38       0.03290         0.785   \n232722  2ziWXUmQLrXTiYjCg2fZ2t          47       0.90100         0.517   \n232723  6EFsue2YbIG4Qkq8Zr9Rir          44       0.26200         0.745   \n232724  34XO9RwPMKjbvRry54QzWn          35       0.09730         0.758   \n\n        duration_ms  energy  instrumentalness  ...  G#  D  A#  A  B  4/4  5/4  \\\n0             99373   0.910          0.000000  ...   0  0   0  0  0    1    0   \n1            137373   0.737          0.000000  ...   0  0   0  0  0    1    0   \n2            170267   0.131          0.000000  ...   0  0   0  0  0    0    1   \n3            152427   0.326          0.000000  ...   0  0   0  0  0    1    0   \n4             82625   0.225          0.123000  ...   0  0   0  0  0    1    0   \n...             ...     ...               ...  ...  .. ..  .. .. ..  ...  ...   \n232720       326240   0.714          0.544000  ...   0  1   0  0  0    1    0   \n232721       282447   0.683          0.000880  ...   0  0   0  0  0    1    0   \n232722       166960   0.419          0.000000  ...   0  1   0  0  0    1    0   \n232723       222442   0.704          0.000000  ...   0  0   0  1  0    1    0   \n232724       323027   0.470          0.000049  ...   1  0   0  0  0    1    0   \n\n        3/4  1/4  0/4  \n0         0    0    0  \n1         0    0    0  \n2         0    0    0  \n3         0    0    0  \n4         0    0    0  \n...     ...  ...  ...  \n232720    0    0    0  \n232721    0    0    0  \n232722    0    0    0  \n232723    0    0    0  \n232724    0    0    0  \n\n[232725 rows x 33 columns]",
      "text/html": "<div>\n<style scoped>\n    .dataframe tbody tr th:only-of-type {\n        vertical-align: middle;\n    }\n\n    .dataframe tbody tr th {\n        vertical-align: top;\n    }\n\n    .dataframe thead th {\n        text-align: right;\n    }\n</style>\n<table border=\"1\" class=\"dataframe\">\n  <thead>\n    <tr style=\"text-align: right;\">\n      <th></th>\n      <th>genre</th>\n      <th>artist_name</th>\n      <th>track_name</th>\n      <th>track_id</th>\n      <th>popularity</th>\n      <th>acousticness</th>\n      <th>danceability</th>\n      <th>duration_ms</th>\n      <th>energy</th>\n      <th>instrumentalness</th>\n      <th>...</th>\n      <th>G#</th>\n      <th>D</th>\n      <th>A#</th>\n      <th>A</th>\n      <th>B</th>\n      <th>4/4</th>\n      <th>5/4</th>\n      <th>3/4</th>\n      <th>1/4</th>\n      <th>0/4</th>\n    </tr>\n  </thead>\n  <tbody>\n    <tr>\n      <th>0</th>\n      <td>Movie</td>\n      <td>Henri Salvador</td>\n      <td>C'est beau de faire un Show</td>\n      <td>0BRjO6ga9RKCKjfDqeFgWV</td>\n      <td>0</td>\n      <td>0.61100</td>\n      <td>0.389</td>\n      <td>99373</td>\n      <td>0.910</td>\n      <td>0.000000</td>\n      <td>...</td>\n      <td>0</td>\n      <td>0</td>\n      <td>0</td>\n      <td>0</td>\n      <td>0</td>\n      <td>1</td>\n      <td>0</td>\n      <td>0</td>\n      <td>0</td>\n      <td>0</td>\n    </tr>\n    <tr>\n      <th>1</th>\n      <td>Movie</td>\n      <td>Martin &amp; les fées</td>\n      <td>Perdu d'avance (par Gad Elmaleh)</td>\n      <td>0BjC1NfoEOOusryehmNudP</td>\n      <td>1</td>\n      <td>0.24600</td>\n      <td>0.590</td>\n      <td>137373</td>\n      <td>0.737</td>\n      <td>0.000000</td>\n      <td>...</td>\n      <td>0</td>\n      <td>0</td>\n      <td>0</td>\n      <td>0</td>\n      <td>0</td>\n      <td>1</td>\n      <td>0</td>\n      <td>0</td>\n      <td>0</td>\n      <td>0</td>\n    </tr>\n    <tr>\n      <th>2</th>\n      <td>Movie</td>\n      <td>Joseph Williams</td>\n      <td>Don't Let Me Be Lonely Tonight</td>\n      <td>0CoSDzoNIKCRs124s9uTVy</td>\n      <td>3</td>\n      <td>0.95200</td>\n      <td>0.663</td>\n      <td>170267</td>\n      <td>0.131</td>\n      <td>0.000000</td>\n      <td>...</td>\n      <td>0</td>\n      <td>0</td>\n      <td>0</td>\n      <td>0</td>\n      <td>0</td>\n      <td>0</td>\n      <td>1</td>\n      <td>0</td>\n      <td>0</td>\n      <td>0</td>\n    </tr>\n    <tr>\n      <th>3</th>\n      <td>Movie</td>\n      <td>Henri Salvador</td>\n      <td>Dis-moi Monsieur Gordon Cooper</td>\n      <td>0Gc6TVm52BwZD07Ki6tIvf</td>\n      <td>0</td>\n      <td>0.70300</td>\n      <td>0.240</td>\n      <td>152427</td>\n      <td>0.326</td>\n      <td>0.000000</td>\n      <td>...</td>\n      <td>0</td>\n      <td>0</td>\n      <td>0</td>\n      <td>0</td>\n      <td>0</td>\n      <td>1</td>\n      <td>0</td>\n      <td>0</td>\n      <td>0</td>\n      <td>0</td>\n    </tr>\n    <tr>\n      <th>4</th>\n      <td>Movie</td>\n      <td>Fabien Nataf</td>\n      <td>Ouverture</td>\n      <td>0IuslXpMROHdEPvSl1fTQK</td>\n      <td>4</td>\n      <td>0.95000</td>\n      <td>0.331</td>\n      <td>82625</td>\n      <td>0.225</td>\n      <td>0.123000</td>\n      <td>...</td>\n      <td>0</td>\n      <td>0</td>\n      <td>0</td>\n      <td>0</td>\n      <td>0</td>\n      <td>1</td>\n      <td>0</td>\n      <td>0</td>\n      <td>0</td>\n      <td>0</td>\n    </tr>\n    <tr>\n      <th>...</th>\n      <td>...</td>\n      <td>...</td>\n      <td>...</td>\n      <td>...</td>\n      <td>...</td>\n      <td>...</td>\n      <td>...</td>\n      <td>...</td>\n      <td>...</td>\n      <td>...</td>\n      <td>...</td>\n      <td>...</td>\n      <td>...</td>\n      <td>...</td>\n      <td>...</td>\n      <td>...</td>\n      <td>...</td>\n      <td>...</td>\n      <td>...</td>\n      <td>...</td>\n      <td>...</td>\n    </tr>\n    <tr>\n      <th>232720</th>\n      <td>Soul</td>\n      <td>Slave</td>\n      <td>Son Of Slide</td>\n      <td>2XGLdVl7lGeq8ksM6Al7jT</td>\n      <td>39</td>\n      <td>0.00384</td>\n      <td>0.687</td>\n      <td>326240</td>\n      <td>0.714</td>\n      <td>0.544000</td>\n      <td>...</td>\n      <td>0</td>\n      <td>1</td>\n      <td>0</td>\n      <td>0</td>\n      <td>0</td>\n      <td>1</td>\n      <td>0</td>\n      <td>0</td>\n      <td>0</td>\n      <td>0</td>\n    </tr>\n    <tr>\n      <th>232721</th>\n      <td>Soul</td>\n      <td>Jr Thomas &amp; The Volcanos</td>\n      <td>Burning Fire</td>\n      <td>1qWZdkBl4UVPj9lK6HuuFM</td>\n      <td>38</td>\n      <td>0.03290</td>\n      <td>0.785</td>\n      <td>282447</td>\n      <td>0.683</td>\n      <td>0.000880</td>\n      <td>...</td>\n      <td>0</td>\n      <td>0</td>\n      <td>0</td>\n      <td>0</td>\n      <td>0</td>\n      <td>1</td>\n      <td>0</td>\n      <td>0</td>\n      <td>0</td>\n      <td>0</td>\n    </tr>\n    <tr>\n      <th>232722</th>\n      <td>Soul</td>\n      <td>Muddy Waters</td>\n      <td>(I'm Your) Hoochie Coochie Man</td>\n      <td>2ziWXUmQLrXTiYjCg2fZ2t</td>\n      <td>47</td>\n      <td>0.90100</td>\n      <td>0.517</td>\n      <td>166960</td>\n      <td>0.419</td>\n      <td>0.000000</td>\n      <td>...</td>\n      <td>0</td>\n      <td>1</td>\n      <td>0</td>\n      <td>0</td>\n      <td>0</td>\n      <td>1</td>\n      <td>0</td>\n      <td>0</td>\n      <td>0</td>\n      <td>0</td>\n    </tr>\n    <tr>\n      <th>232723</th>\n      <td>Soul</td>\n      <td>R.LUM.R</td>\n      <td>With My Words</td>\n      <td>6EFsue2YbIG4Qkq8Zr9Rir</td>\n      <td>44</td>\n      <td>0.26200</td>\n      <td>0.745</td>\n      <td>222442</td>\n      <td>0.704</td>\n      <td>0.000000</td>\n      <td>...</td>\n      <td>0</td>\n      <td>0</td>\n      <td>0</td>\n      <td>1</td>\n      <td>0</td>\n      <td>1</td>\n      <td>0</td>\n      <td>0</td>\n      <td>0</td>\n      <td>0</td>\n    </tr>\n    <tr>\n      <th>232724</th>\n      <td>Soul</td>\n      <td>Mint Condition</td>\n      <td>You Don't Have To Hurt No More</td>\n      <td>34XO9RwPMKjbvRry54QzWn</td>\n      <td>35</td>\n      <td>0.09730</td>\n      <td>0.758</td>\n      <td>323027</td>\n      <td>0.470</td>\n      <td>0.000049</td>\n      <td>...</td>\n      <td>1</td>\n      <td>0</td>\n      <td>0</td>\n      <td>0</td>\n      <td>0</td>\n      <td>1</td>\n      <td>0</td>\n      <td>0</td>\n      <td>0</td>\n      <td>0</td>\n    </tr>\n  </tbody>\n</table>\n<p>232725 rows × 33 columns</p>\n</div>"
     },
     "metadata": {},
     "execution_count": 2
    }
   ],
   "source": [
    "df = pd.read_csv(\"data/SpotifyFeatures.csv\")\n",
    "\n",
    "## Preprocessing\n",
    "\n",
    "# Genre\n",
    "new_gen = df['genre'].replace('Children’s Music', \"Children's Music\")\n",
    "df['genre'] = new_gen.astype('category')\n",
    "\n",
    "# Keys\n",
    "for k in df['key'].unique():\n",
    "    df[k] = (k == df['key']).astype('int64')\n",
    "df = df.drop(labels = 'key', axis = 'columns')\n",
    "\n",
    "# Time signature\n",
    "for ts in df['time_signature'].unique():\n",
    "    df[ts] = (ts == df['time_signature']).astype('int64')\n",
    "df = df.drop(labels = 'time_signature', axis = 'columns')\n",
    "\n",
    "# Mode\n",
    "df['mode'] = (df['mode'] == 'Major').astype('int64') \n",
    "\n",
    "df"
   ]
  },
  {
   "cell_type": "code",
   "execution_count": 3,
   "metadata": {},
   "outputs": [
    {
     "output_type": "stream",
     "name": "stdout",
     "text": "[[6.11000e-01 3.89000e-01 9.93730e+04 ... 0.00000e+00 0.00000e+00\n  0.00000e+00]\n [2.46000e-01 5.90000e-01 1.37373e+05 ... 0.00000e+00 0.00000e+00\n  0.00000e+00]\n [9.52000e-01 6.63000e-01 1.70267e+05 ... 0.00000e+00 0.00000e+00\n  0.00000e+00]\n ...\n [9.01000e-01 5.17000e-01 1.66960e+05 ... 0.00000e+00 0.00000e+00\n  0.00000e+00]\n [2.62000e-01 7.45000e-01 2.22442e+05 ... 0.00000e+00 0.00000e+00\n  0.00000e+00]\n [9.73000e-02 7.58000e-01 3.23027e+05 ... 0.00000e+00 0.00000e+00\n  0.00000e+00]]\n(232725, 28)\n(232725, 1)\n"
    }
   ],
   "source": [
    "attribute_labels = df.columns[5:]\n",
    "\n",
    "attributes = []\n",
    "for a in attribute_labels:\n",
    "    attributes.extend(list(df[a].values))\n",
    "\n",
    "attributes = np.asarray([np.asarray(attributes)])\n",
    "attributes = np.reshape(attributes, (len(attribute_labels), -1))\n",
    "attributes = attributes.transpose()\n",
    "\n",
    "labels = df['popularity'].values.reshape(-1, 1)\n",
    "\n",
    "print(attributes)\n",
    "print(attributes.shape)\n",
    "print(labels.shape)"
   ]
  },
  {
   "cell_type": "code",
   "execution_count": 8,
   "metadata": {},
   "outputs": [
    {
     "output_type": "stream",
     "name": "stdout",
     "text": "First 5 predictions: [27 39 40 12 14]\n\nScore: 0.25994199162101195\n\n"
    }
   ],
   "source": [
    "RSEED = 50\n",
    "X_train, X_test, y_train, y_test = train_test_split(attributes, labels, test_size=0.2, random_state=0)\n",
    "tree = DecisionTreeClassifier(random_state=RSEED)\n",
    "tree.fit(X_train, y_train)\n",
    "\n",
    "predictions = tree.predict(X_test)\n",
    "print('First 5 predictions: %s\\n' % predictions[0:5])\n",
    "\n",
    "print('Score: %s\\n' % tree.score(X_test, y_test))"
   ]
  }
 ]
}