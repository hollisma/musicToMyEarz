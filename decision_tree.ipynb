{
 "cells": [
  {
   "cell_type": "code",
   "execution_count": null,
   "metadata": {},
   "outputs": [],
   "source": [
    "import numpy as np\n",
    "import pandas as pd\n",
    "from sklearn.model_selection import train_test_split \n",
    "from sklearn.tree import DecisionTreeClassifier\n",
    "print(\"Successfully Loaded\")"
   ]
  },
  {
   "cell_type": "code",
   "execution_count": null,
   "metadata": {},
   "outputs": [],
   "source": [
    "df = pd.read_csv(\"data/SpotifyFeatures.csv\")\n",
    "\n",
    "\n",
    "## Preprocessing\n",
    "\n",
    "# Genre\n",
    "new_gen = df['genre'].replace('Children’s Music', \"Children's Music\")\n",
    "df['genre'] = new_gen.astype('category')\n",
    "\n",
    "# Keys\n",
    "for k in df['key'].unique():\n",
    "    df[k] = (k == df['key']).astype('int64')\n",
    "df = df.drop(labels = 'key', axis = 'columns')\n",
    "\n",
    "# Time signature\n",
    "for ts in df['time_signature'].unique():\n",
    "    df[ts] = (ts == df['time_signature']).astype('int64')\n",
    "df = df.drop(labels = 'time_signature', axis = 'columns')\n",
    "\n",
    "# Mode\n",
    "df['mode'] = (df['mode'] == 'Major').astype('int64') \n",
    "\n",
    "df_by_genre = dict()\n",
    "for g in df['genre'].unique():\n",
    "    df_by_genre[g] = df[df['genre'] == g]\n",
    "\n",
    "# genre = df['genre'].unique()[0]\n",
    "# df = df_by_genre[genre]\n",
    "\n",
    "df"
   ]
  },
  {
   "cell_type": "code",
   "execution_count": null,
   "metadata": {},
   "outputs": [],
   "source": [
    "attribute_labels = df.columns[5:]\n",
    "\n",
    "attributes = []\n",
    "for a in attribute_labels:\n",
    "    attributes.extend(list(df[a].values))\n",
    "\n",
    "attributes = np.asarray([np.asarray(attributes)])\n",
    "attributes = np.reshape(attributes, (len(attribute_labels), -1))\n",
    "attributes = attributes.transpose()\n",
    "\n",
    "labels = df['popularity'].values.reshape(-1, 1)\n",
    "\n",
    "print(attributes)\n",
    "print(attributes.shape)\n",
    "print(labels.shape)"
   ]
  },
  {
   "cell_type": "code",
   "execution_count": null,
   "metadata": {},
   "outputs": [],
   "source": [
    "fst_row = attributes[0]\n",
    "print(fst_row)\n",
    "import joblib\n",
    "joblib.dump(fst_row, \"fst_row_attributes.joblib\")"
   ]
  },
  {
   "cell_type": "code",
   "execution_count": null,
   "metadata": {},
   "outputs": [],
   "source": [
    "RSEED = 50\n",
    "X_train, X_test, y_train, y_test = train_test_split(attributes, labels, test_size=0.2, random_state=0)\n",
    "tree = DecisionTreeClassifier(random_state=RSEED)\n",
    "tree.fit(X_train, y_train)\n",
    "\n",
    "predictions = tree.predict(X_test)\n",
    "print('First 5 predictions: %s\\n' % predictions[0:5])\n",
    "print(y_test[:5])\n",
    "\n",
    "print('Score: %s\\n' % tree.score(X_test, y_test))"
   ]
  }
 ],
 "metadata": {
  "file_extension": ".py",
  "kernelspec": {
   "display_name": "Python 3.6.9 64-bit",
   "language": "python",
   "name": "python36964bit21e1ddd3b32f40fabac9b80c8b9d79f5"
  },
  "language_info": {
   "codemirror_mode": {
    "name": "ipython",
    "version": 3
   },
   "file_extension": ".py",
   "mimetype": "text/x-python",
   "name": "python",
   "nbconvert_exporter": "python",
   "pygments_lexer": "ipython3",
   "version": "3.6.9"
  },
  "mimetype": "text/x-python",
  "name": "python",
  "npconvert_exporter": "python",
  "pygments_lexer": "ipython3",
  "version": 3
 },
 "nbformat": 4,
 "nbformat_minor": 2
}
